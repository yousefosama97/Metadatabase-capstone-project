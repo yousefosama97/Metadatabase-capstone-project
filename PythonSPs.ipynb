{
 "cells": [
  {
   "cell_type": "code",
   "execution_count": null,
   "metadata": {},
   "outputs": [],
   "source": [
    "import mysql.connector as connector\n",
    "connection = connector.connect(user = \"MetaDBadmin\", password = \"\", db = \"littlelemondb\")"
   ]
  },
  {
   "cell_type": "code",
   "execution_count": null,
   "metadata": {},
   "outputs": [],
   "source": [
    "cursor = connection.cursor()\n",
    "\n",
    "# GetMaxQuantity\n",
    "cursor.execute(\"\"\"\n",
    "    CREATE PROCEDURE GetMaxQuantity ()\n",
    "    BEGIN\n",
    "        SELECT MAX(OrderQty)\n",
    "        FROM `order`;\n",
    "    END\"\"\")\n",
    "cursor.callproc('GetMaxQuantity')\n",
    "for result in cursor.stored_results():\n",
    "    print(result.fetchall())\n"
   ]
  },
  {
   "cell_type": "code",
   "execution_count": null,
   "metadata": {},
   "outputs": [],
   "source": [
    "\n",
    "# ManageBooking\n",
    "cursor.execute(\"\"\"\n",
    "    CREATE PROCEDURE ManageBooking (\n",
    "        IN booking_date DATE,\n",
    "        IN table_number INT\n",
    "    )\n",
    "    BEGIN\n",
    "        DECLARE booking_status BOOL;\n",
    "        SELECT COUNT(*) INTO booking_status\n",
    "        FROM booking\n",
    "        WHERE booking_date = booking_date AND table_number = table_number;\n",
    "        IF booking_status = TRUE THEN\n",
    "            SELECT CONCAT('Table ', table_number, ' is already booked') AS message;\n",
    "        ELSE\n",
    "            SELECT CONCAT('Table ', table_number, ' is available') AS message;\n",
    "        END IF;\n",
    "    END\"\"\")\n",
    "cursor.callproc('ManageBooking', ('2023-03-15', 1))\n",
    "for result in cursor.stored_results():\n",
    "    print(result.fetchall())\n"
   ]
  },
  {
   "cell_type": "code",
   "execution_count": null,
   "metadata": {},
   "outputs": [],
   "source": [
    "# UpdateBooking\n",
    "cursor.execute(\"\"\"\n",
    "    CREATE PROCEDURE UpdateBooking(\n",
    "        IN booking_id INT,\n",
    "        IN booking_table INT,\n",
    "        IN booking_date DATE\n",
    "    )\n",
    "    BEGIN\n",
    "        UPDATE booking \n",
    "        SET BookingTable = booking_table, BookingDate = booking_date \n",
    "        WHERE BookingID = booking_id;\n",
    "    END\"\"\")\n",
    "cursor.callproc('UpdateBooking', (1, 1, '2022-10-11'))\n"
   ]
  },
  {
   "cell_type": "code",
   "execution_count": null,
   "metadata": {},
   "outputs": [],
   "source": [
    "\n",
    "# AddBooking\n",
    "cursor.execute(\"\"\"\n",
    "    CREATE PROCEDURE AddBooking (\n",
    "        IN table_number INT,\n",
    "        IN booking_date DATE\n",
    "    )\n",
    "    BEGIN\n",
    "        DECLARE booking_status BOOL;\n",
    "        SELECT COUNT(*) INTO booking_status\n",
    "        FROM booking\n",
    "        WHERE BookingTable = table_number AND BookingDate = booking_date;\n",
    "        IF booking_status = 0 THEN\n",
    "            INSERT INTO booking (BookingTable, BookingDate)\n",
    "            VALUES (table_number, booking_date);\n",
    "            SELECT CONCAT('Booking for table ', table_number, ' on ', booking_date, ' was successful') AS message;\n",
    "        ELSE\n",
    "            SELECT CONCAT('Table ', table_number, ' is already booked on ', booking_date) AS message;\n",
    "        END IF;\n",
    "    END\"\"\")\n",
    "cursor.callproc('AddBooking', (1, '2023-03-15'))\n",
    "for result in cursor.stored_results():\n",
    "    print(result.fetchall())\n"
   ]
  },
  {
   "cell_type": "code",
   "execution_count": null,
   "metadata": {},
   "outputs": [],
   "source": [
    "\n",
    "# CancelBooking\n",
    "cursor.execute(\"\"\"\n",
    "    CREATE PROCEDURE CancelBooking(IN booking_id INT)\n",
    "    BEGIN\n",
    "        DELETE FROM booking WHERE BookingID = booking_id;\n",
    "    END\"\"\")\n",
    "cursor.callproc('CancelBooking', (1,))\n"
   ]
  },
  {
   "cell_type": "code",
   "execution_count": null,
   "metadata": {},
   "outputs": [],
   "source": [
    "\n",
    "cursor.close()\n",
    "connection.close()"
   ]
  }
 ],
 "metadata": {
  "language_info": {
   "name": "python"
  }
 },
 "nbformat": 4,
 "nbformat_minor": 2
}
